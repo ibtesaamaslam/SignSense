{
  "cells": [
    {
      "cell_type": "markdown",
      "metadata": {},
      "source": [
        "# SignSense: Gesture Recognition Demo\n",
        "Train the model and test gesture prediction in this notebook."
      ]
    },
    {
      "cell_type": "code",
      "execution_count": null,
      "metadata": {},
      "outputs": [],
      "source": [
        "# Install dependencies\n",
        "!pip install opencv-python mediapipe numpy scikit-learn matplotlib kagglehub tqdm"
      ]
    },
    {
      "cell_type": "code",
      "execution_count": null,
      "metadata": {},
      "outputs": [],
      "source": [
        "# Load and process the dataset\n",
        "import kagglehub\n",
        "path = kagglehub.dataset_download('abhishek14398/gesture-recognition-dataset')\n",
        "print('Dataset downloaded to:', path)"
      ]
    }
  ],
  "metadata": {
    "kernelspec": {
      "display_name": "Python 3",
      "language": "python",
      "name": "python3"
    },
    "language_info": {
      "name": "python",
      "version": "3.9"
    }
  },
  "nbformat": 4,
  "nbformat_minor": 5
}